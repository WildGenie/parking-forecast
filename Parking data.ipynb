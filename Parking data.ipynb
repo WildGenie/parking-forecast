{
 "cells": [
  {
   "cell_type": "markdown",
   "metadata": {},
   "source": [
    "### Clone"
   ]
  },
  {
   "cell_type": "code",
   "execution_count": 1,
   "metadata": {},
   "outputs": [],
   "source": [
    "# !git clone https://github.com/bighuang624/DSANet.git"
   ]
  },
  {
   "cell_type": "markdown",
   "metadata": {},
   "source": [
    "### Convert time series "
   ]
  },
  {
   "cell_type": "code",
   "execution_count": 27,
   "metadata": {},
   "outputs": [
    {
     "data": {
      "text/html": [
       "<div>\n",
       "<style scoped>\n",
       "    .dataframe tbody tr th:only-of-type {\n",
       "        vertical-align: middle;\n",
       "    }\n",
       "\n",
       "    .dataframe tbody tr th {\n",
       "        vertical-align: top;\n",
       "    }\n",
       "\n",
       "    .dataframe thead th {\n",
       "        text-align: right;\n",
       "    }\n",
       "</style>\n",
       "<table border=\"1\" class=\"dataframe\">\n",
       "  <thead>\n",
       "    <tr style=\"text-align: right;\">\n",
       "      <th></th>\n",
       "      <th>E-Parking P1</th>\n",
       "      <th>Kiekko (free with time limit) P1</th>\n",
       "      <th>Kiekko (free with time limit) P9</th>\n",
       "      <th>Vapaa  (free parking) P4</th>\n",
       "      <th>Vapaa  (free parking) P5</th>\n",
       "      <th>Vapaa  (free parking) P7</th>\n",
       "      <th>Vapaa  (free parking) P8</th>\n",
       "      <th>Lupa (parking permit) P1</th>\n",
       "      <th>Lupa (parking permit) P9</th>\n",
       "    </tr>\n",
       "    <tr>\n",
       "      <th>Time</th>\n",
       "      <th></th>\n",
       "      <th></th>\n",
       "      <th></th>\n",
       "      <th></th>\n",
       "      <th></th>\n",
       "      <th></th>\n",
       "      <th></th>\n",
       "      <th></th>\n",
       "      <th></th>\n",
       "    </tr>\n",
       "  </thead>\n",
       "  <tbody>\n",
       "    <tr>\n",
       "      <td>2020-01-30 00:00:00</td>\n",
       "      <td>8.0</td>\n",
       "      <td>1.0</td>\n",
       "      <td>0.0</td>\n",
       "      <td>1.0</td>\n",
       "      <td>1.0</td>\n",
       "      <td>0.0</td>\n",
       "      <td>3.0</td>\n",
       "      <td>1.0</td>\n",
       "      <td>0.0</td>\n",
       "    </tr>\n",
       "    <tr>\n",
       "      <td>2020-01-30 00:01:00</td>\n",
       "      <td>8.0</td>\n",
       "      <td>1.0</td>\n",
       "      <td>0.0</td>\n",
       "      <td>2.0</td>\n",
       "      <td>1.0</td>\n",
       "      <td>0.0</td>\n",
       "      <td>3.0</td>\n",
       "      <td>1.0</td>\n",
       "      <td>0.0</td>\n",
       "    </tr>\n",
       "    <tr>\n",
       "      <td>2020-01-30 00:02:00</td>\n",
       "      <td>8.0</td>\n",
       "      <td>1.0</td>\n",
       "      <td>0.0</td>\n",
       "      <td>2.0</td>\n",
       "      <td>1.0</td>\n",
       "      <td>0.0</td>\n",
       "      <td>3.0</td>\n",
       "      <td>1.0</td>\n",
       "      <td>0.0</td>\n",
       "    </tr>\n",
       "    <tr>\n",
       "      <td>2020-01-30 00:03:00</td>\n",
       "      <td>8.0</td>\n",
       "      <td>1.0</td>\n",
       "      <td>0.0</td>\n",
       "      <td>2.0</td>\n",
       "      <td>1.0</td>\n",
       "      <td>0.0</td>\n",
       "      <td>3.0</td>\n",
       "      <td>1.0</td>\n",
       "      <td>0.0</td>\n",
       "    </tr>\n",
       "    <tr>\n",
       "      <td>2020-01-30 00:04:00</td>\n",
       "      <td>8.0</td>\n",
       "      <td>1.0</td>\n",
       "      <td>0.0</td>\n",
       "      <td>2.0</td>\n",
       "      <td>1.0</td>\n",
       "      <td>0.0</td>\n",
       "      <td>3.0</td>\n",
       "      <td>1.0</td>\n",
       "      <td>0.0</td>\n",
       "    </tr>\n",
       "  </tbody>\n",
       "</table>\n",
       "</div>"
      ],
      "text/plain": [
       "                     E-Parking P1  Kiekko (free with time limit) P1  \\\n",
       "Time                                                                  \n",
       "2020-01-30 00:00:00           8.0                               1.0   \n",
       "2020-01-30 00:01:00           8.0                               1.0   \n",
       "2020-01-30 00:02:00           8.0                               1.0   \n",
       "2020-01-30 00:03:00           8.0                               1.0   \n",
       "2020-01-30 00:04:00           8.0                               1.0   \n",
       "\n",
       "                     Kiekko (free with time limit) P9  \\\n",
       "Time                                                    \n",
       "2020-01-30 00:00:00                               0.0   \n",
       "2020-01-30 00:01:00                               0.0   \n",
       "2020-01-30 00:02:00                               0.0   \n",
       "2020-01-30 00:03:00                               0.0   \n",
       "2020-01-30 00:04:00                               0.0   \n",
       "\n",
       "                     Vapaa  (free parking) P4  Vapaa  (free parking) P5  \\\n",
       "Time                                                                      \n",
       "2020-01-30 00:00:00                       1.0                       1.0   \n",
       "2020-01-30 00:01:00                       2.0                       1.0   \n",
       "2020-01-30 00:02:00                       2.0                       1.0   \n",
       "2020-01-30 00:03:00                       2.0                       1.0   \n",
       "2020-01-30 00:04:00                       2.0                       1.0   \n",
       "\n",
       "                     Vapaa  (free parking) P7  Vapaa  (free parking) P8  \\\n",
       "Time                                                                      \n",
       "2020-01-30 00:00:00                       0.0                       3.0   \n",
       "2020-01-30 00:01:00                       0.0                       3.0   \n",
       "2020-01-30 00:02:00                       0.0                       3.0   \n",
       "2020-01-30 00:03:00                       0.0                       3.0   \n",
       "2020-01-30 00:04:00                       0.0                       3.0   \n",
       "\n",
       "                     Lupa (parking permit) P1  Lupa (parking permit) P9  \n",
       "Time                                                                     \n",
       "2020-01-30 00:00:00                       1.0                       0.0  \n",
       "2020-01-30 00:01:00                       1.0                       0.0  \n",
       "2020-01-30 00:02:00                       1.0                       0.0  \n",
       "2020-01-30 00:03:00                       1.0                       0.0  \n",
       "2020-01-30 00:04:00                       1.0                       0.0  "
      ]
     },
     "execution_count": 27,
     "metadata": {},
     "output_type": "execute_result"
    }
   ],
   "source": [
    "import pandas as pd\n",
    "df = pd.read_csv('./grafana_data_export.csv', \n",
    "                         sep=\";\", index_col=0, parse_dates=True, decimal='.').astype(float)\n",
    "df.head()"
   ]
  },
  {
   "cell_type": "code",
   "execution_count": 48,
   "metadata": {},
   "outputs": [
    {
     "data": {
      "text/html": [
       "<div>\n",
       "<style scoped>\n",
       "    .dataframe tbody tr th:only-of-type {\n",
       "        vertical-align: middle;\n",
       "    }\n",
       "\n",
       "    .dataframe tbody tr th {\n",
       "        vertical-align: top;\n",
       "    }\n",
       "\n",
       "    .dataframe thead th {\n",
       "        text-align: right;\n",
       "    }\n",
       "</style>\n",
       "<table border=\"1\" class=\"dataframe\">\n",
       "  <thead>\n",
       "    <tr style=\"text-align: right;\">\n",
       "      <th></th>\n",
       "      <th>E-Parking P1</th>\n",
       "      <th>Kiekko (free with time limit) P1</th>\n",
       "      <th>Kiekko (free with time limit) P9</th>\n",
       "      <th>Vapaa  (free parking) P4</th>\n",
       "      <th>Vapaa  (free parking) P5</th>\n",
       "      <th>Vapaa  (free parking) P7</th>\n",
       "      <th>Vapaa  (free parking) P8</th>\n",
       "      <th>Lupa (parking permit) P1</th>\n",
       "      <th>Lupa (parking permit) P9</th>\n",
       "    </tr>\n",
       "    <tr>\n",
       "      <th>Time</th>\n",
       "      <th></th>\n",
       "      <th></th>\n",
       "      <th></th>\n",
       "      <th></th>\n",
       "      <th></th>\n",
       "      <th></th>\n",
       "      <th></th>\n",
       "      <th></th>\n",
       "      <th></th>\n",
       "    </tr>\n",
       "  </thead>\n",
       "  <tbody>\n",
       "    <tr>\n",
       "      <td>2020-02-08 22:45:00</td>\n",
       "      <td>8.0</td>\n",
       "      <td>1.0</td>\n",
       "      <td>0.0</td>\n",
       "      <td>1.0</td>\n",
       "      <td>2.0</td>\n",
       "      <td>0.0</td>\n",
       "      <td>3.0</td>\n",
       "      <td>0.0</td>\n",
       "      <td>0.0</td>\n",
       "    </tr>\n",
       "    <tr>\n",
       "      <td>2020-02-08 23:00:00</td>\n",
       "      <td>6.0</td>\n",
       "      <td>1.0</td>\n",
       "      <td>0.0</td>\n",
       "      <td>1.0</td>\n",
       "      <td>3.0</td>\n",
       "      <td>0.0</td>\n",
       "      <td>2.0</td>\n",
       "      <td>0.0</td>\n",
       "      <td>0.0</td>\n",
       "    </tr>\n",
       "    <tr>\n",
       "      <td>2020-02-08 23:15:00</td>\n",
       "      <td>6.0</td>\n",
       "      <td>1.0</td>\n",
       "      <td>0.0</td>\n",
       "      <td>1.0</td>\n",
       "      <td>3.0</td>\n",
       "      <td>0.0</td>\n",
       "      <td>2.5</td>\n",
       "      <td>0.0</td>\n",
       "      <td>0.0</td>\n",
       "    </tr>\n",
       "    <tr>\n",
       "      <td>2020-02-08 23:30:00</td>\n",
       "      <td>7.0</td>\n",
       "      <td>1.0</td>\n",
       "      <td>0.0</td>\n",
       "      <td>1.0</td>\n",
       "      <td>1.0</td>\n",
       "      <td>0.0</td>\n",
       "      <td>3.0</td>\n",
       "      <td>0.0</td>\n",
       "      <td>0.0</td>\n",
       "    </tr>\n",
       "    <tr>\n",
       "      <td>2020-02-08 23:45:00</td>\n",
       "      <td>7.0</td>\n",
       "      <td>1.0</td>\n",
       "      <td>0.0</td>\n",
       "      <td>1.0</td>\n",
       "      <td>1.0</td>\n",
       "      <td>0.0</td>\n",
       "      <td>3.0</td>\n",
       "      <td>0.0</td>\n",
       "      <td>0.0</td>\n",
       "    </tr>\n",
       "  </tbody>\n",
       "</table>\n",
       "</div>"
      ],
      "text/plain": [
       "                     E-Parking P1  Kiekko (free with time limit) P1  \\\n",
       "Time                                                                  \n",
       "2020-02-08 22:45:00           8.0                               1.0   \n",
       "2020-02-08 23:00:00           6.0                               1.0   \n",
       "2020-02-08 23:15:00           6.0                               1.0   \n",
       "2020-02-08 23:30:00           7.0                               1.0   \n",
       "2020-02-08 23:45:00           7.0                               1.0   \n",
       "\n",
       "                     Kiekko (free with time limit) P9  \\\n",
       "Time                                                    \n",
       "2020-02-08 22:45:00                               0.0   \n",
       "2020-02-08 23:00:00                               0.0   \n",
       "2020-02-08 23:15:00                               0.0   \n",
       "2020-02-08 23:30:00                               0.0   \n",
       "2020-02-08 23:45:00                               0.0   \n",
       "\n",
       "                     Vapaa  (free parking) P4  Vapaa  (free parking) P5  \\\n",
       "Time                                                                      \n",
       "2020-02-08 22:45:00                       1.0                       2.0   \n",
       "2020-02-08 23:00:00                       1.0                       3.0   \n",
       "2020-02-08 23:15:00                       1.0                       3.0   \n",
       "2020-02-08 23:30:00                       1.0                       1.0   \n",
       "2020-02-08 23:45:00                       1.0                       1.0   \n",
       "\n",
       "                     Vapaa  (free parking) P7  Vapaa  (free parking) P8  \\\n",
       "Time                                                                      \n",
       "2020-02-08 22:45:00                       0.0                       3.0   \n",
       "2020-02-08 23:00:00                       0.0                       2.0   \n",
       "2020-02-08 23:15:00                       0.0                       2.5   \n",
       "2020-02-08 23:30:00                       0.0                       3.0   \n",
       "2020-02-08 23:45:00                       0.0                       3.0   \n",
       "\n",
       "                     Lupa (parking permit) P1  Lupa (parking permit) P9  \n",
       "Time                                                                     \n",
       "2020-02-08 22:45:00                       0.0                       0.0  \n",
       "2020-02-08 23:00:00                       0.0                       0.0  \n",
       "2020-02-08 23:15:00                       0.0                       0.0  \n",
       "2020-02-08 23:30:00                       0.0                       0.0  \n",
       "2020-02-08 23:45:00                       0.0                       0.0  "
      ]
     },
     "execution_count": 48,
     "metadata": {},
     "output_type": "execute_result"
    }
   ],
   "source": [
    "df.tail()"
   ]
  },
  {
   "cell_type": "code",
   "execution_count": 59,
   "metadata": {},
   "outputs": [
    {
     "data": {
      "text/plain": [
       "'Vapaa  (free parking) P7'"
      ]
     },
     "execution_count": 59,
     "metadata": {},
     "output_type": "execute_result"
    }
   ],
   "source": [
    "df.columns[5]"
   ]
  },
  {
   "cell_type": "code",
   "execution_count": 58,
   "metadata": {},
   "outputs": [
    {
     "data": {
      "text/plain": [
       "0.0"
      ]
     },
     "execution_count": 58,
     "metadata": {},
     "output_type": "execute_result"
    }
   ],
   "source": [
    "df[df.columns[5]].max()"
   ]
  },
  {
   "cell_type": "code",
   "execution_count": 29,
   "metadata": {},
   "outputs": [
    {
     "data": {
      "text/plain": [
       "9"
      ]
     },
     "execution_count": 29,
     "metadata": {},
     "output_type": "execute_result"
    }
   ],
   "source": [
    "len(df.columns)"
   ]
  },
  {
   "cell_type": "code",
   "execution_count": 30,
   "metadata": {},
   "outputs": [
    {
     "data": {
      "text/plain": [
       "<matplotlib.axes._subplots.AxesSubplot at 0x7f537997a908>"
      ]
     },
     "execution_count": 30,
     "metadata": {},
     "output_type": "execute_result"
    },
    {
     "data": {
      "image/png": "[encoded data removed]",
      "text/plain": [
       "<Figure size 432x288 with 1 Axes>"
      ]
     },
     "metadata": {
      "needs_background": "light"
     },
     "output_type": "display_data"
    }
   ],
   "source": [
    "df = df.resample('15T').ffill()\n",
    "df.plot()"
   ]
  },
  {
   "cell_type": "code",
   "execution_count": 62,
   "metadata": {},
   "outputs": [],
   "source": [
    "df.reset_index().drop(['Time'], axis=1).to_csv(r'./data/parking_data.txt',\n",
    "                                                  header=None, index=None, sep=',', mode='w')"
   ]
  },
  {
   "cell_type": "code",
   "execution_count": 22,
   "metadata": {},
   "outputs": [
    {
     "name": "stdout",
     "output_type": "stream",
     "text": [
      "\u001b[33mWARNING: You are using pip version 19.2.3, however version 20.0.2 is available.\r\n",
      "You should consider upgrading via the 'pip install --upgrade pip' command.\u001b[0m\r\n"
     ]
    }
   ],
   "source": [
    "!pip3 install -r 'requirements.txt' -q #--user"
   ]
  },
  {
   "cell_type": "code",
   "execution_count": 24,
   "metadata": {},
   "outputs": [
    {
     "name": "stdout",
     "output_type": "stream",
     "text": [
      "Cloning into 'util'...\n",
      "remote: Enumerating objects: 46, done.\u001b[K\n",
      "remote: Total 46 (delta 0), reused 0 (delta 0), pack-reused 46\u001b[K\n",
      "Unpacking objects: 100% (46/46), done.\n"
     ]
    }
   ],
   "source": [
    "# !git clone https://github.com/fbadine/util.git ''"
   ]
  },
  {
   "cell_type": "code",
   "execution_count": 8,
   "metadata": {},
   "outputs": [
    {
     "name": "stdout",
     "output_type": "stream",
     "text": [
      "573\n",
      "144\n",
      "144\n"
     ]
    }
   ],
   "source": [
    "from model_core import preprocess_data\n",
    "data = preprocess_data(\"data/parking_data.txt\", 96, 4, train=True)"
   ]
  },
  {
   "cell_type": "code",
   "execution_count": 13,
   "metadata": {},
   "outputs": [
    {
     "ename": "ModuleNotFoundError",
     "evalue": "No module named 'schedule'",
     "output_type": "error",
     "traceback": [
      "\u001b[0;31m---------------------------------------------------------------------------\u001b[0m",
      "\u001b[0;31mModuleNotFoundError\u001b[0m                       Traceback (most recent call last)",
      "\u001b[0;32m<ipython-input-13-84ecc2b3c695>\u001b[0m in \u001b[0;36m<module>\u001b[0;34m\u001b[0m\n\u001b[0;32m----> 1\u001b[0;31m \u001b[0;32mimport\u001b[0m \u001b[0mtime\u001b[0m\u001b[0;34m,\u001b[0m \u001b[0mschedule\u001b[0m\u001b[0;34m\u001b[0m\u001b[0;34m\u001b[0m\u001b[0m\n\u001b[0m",
      "\u001b[0;31mModuleNotFoundError\u001b[0m: No module named 'schedule'"
     ]
    }
   ],
   "source": [
    "import time, schedule"
   ]
  },
  {
   "cell_type": "code",
   "execution_count": 12,
   "metadata": {},
   "outputs": [
    {
     "data": {
      "text/plain": [
       "(144, 96, 9)"
      ]
     },
     "execution_count": 12,
     "metadata": {},
     "output_type": "execute_result"
    }
   ],
   "source": [
    "data.test[0].shape"
   ]
  },
  {
   "cell_type": "code",
   "execution_count": 67,
   "metadata": {
    "scrolled": true
   },
   "outputs": [
    {
     "name": "stdout",
     "output_type": "stream",
     "text": [
      "2020-02-10 15:51:54.619461: I tensorflow/core/platform/cpu_feature_guard.cc:142] Your CPU supports instructions that this TensorFlow binary was not compiled to use: AVX2 AVX512F FMA\n",
      "2020-02-10 15:51:54.625165: I tensorflow/core/platform/profile_utils/cpu_utils.cc:94] CPU Frequency: 2394370000 Hz\n",
      "2020-02-10 15:51:54.626069: I tensorflow/compiler/xla/service/service.cc:168] XLA service 0x559daabcf420 executing computations on platform Host. Devices:\n",
      "2020-02-10 15:51:54.626083: I tensorflow/compiler/xla/service/service.cc:175]   StreamExecutor device (0): Host, Default Version\n",
      "WARNING:tensorflow:Entity <bound method PostSkipTrans.call of <lstnet_model.PostSkipTrans object at 0x7f86d820bc50>> could not be transformed and will be executed as-is. Please report this to the AutoGraph team. When filing the bug, set the verbosity to 10 (on Linux, `export AUTOGRAPH_VERBOSITY=10`) and attach the full output. Cause: Failed to parse source code of <bound method PostSkipTrans.call of <lstnet_model.PostSkipTrans object at 0x7f86d820bc50>>, which Python reported as:\n",
      "    def call(self, inputs):\n",
      "        # Get input tensors\n",
      "\t# - First one is the output of the SkipRNN layer which we will operate on\n",
      "\t# - The second is the oiriginal model input tensor which we will use to get\n",
      "\t#   the original batchsize\n",
      "        x, original_model_input = inputs\n",
      "\n",
      "        # Get the batchsize which is tf.shape(original_model_input)[0]\n",
      "        batchsize = tf.shape(original_model_input)[0]\n",
      "\n",
      "        # Get the shape of the input data\n",
      "        input_shape = K.int_shape(x)\n",
      "\n",
      "        # Split the batch size into the original batch size before PreTrans and 'Skip'\n",
      "        output = tf.reshape(x, [batchsize, self.skip, input_shape[1]])\n",
      "        \n",
      "        # Merge the 'skip' with axis=1\n",
      "        output = tf.reshape(output, [batchsize, self.skip * input_shape[1]])\n",
      "        \n",
      "        # Adjust the output shape by setting back the batch size dimension to None\n",
      "        output_shape = tf.TensorShape([None]).concatenate(output.get_shape()[1:])\n",
      "\n",
      "        return output\n",
      "\n",
      "This may be caused by multiline strings or comments not indented at the same level as the code.\n",
      "WARNING:tensorflow:Entity <bound method PostARTrans.call of <lstnet_model.PostARTrans object at 0x7f86d815fd68>> could not be transformed and will be executed as-is. Please report this to the AutoGraph team. When filing the bug, set the verbosity to 10 (on Linux, `export AUTOGRAPH_VERBOSITY=10`) and attach the full output. Cause: Failed to parse source code of <bound method PostARTrans.call of <lstnet_model.PostARTrans object at 0x7f86d815fd68>>, which Python reported as:\n",
      "    def call(self, inputs):\n",
      "        # Get input tensors\n",
      "\t# - First one is the output of the Dense(1) layer which we will operate on\n",
      "\t# - The second is the oiriginal model input tensor which we will use to get\n",
      "\t#   the original batchsize\n",
      "        x, original_model_input = inputs\n",
      "\n",
      "        # Get the batchsize which is tf.shape(original_model_input)[0]\n",
      "        batchsize = tf.shape(original_model_input)[0]\n",
      "\n",
      "        # Get the shape of the input data\n",
      "        input_shape = K.int_shape(x)\n",
      "        \n",
      "        # Reshape the output to have the batch size equal to the original batchsize before PreARTrans\n",
      "        # and the second dimension as the number of timeseries\n",
      "        output = tf.reshape(x, [batchsize, self.m])\n",
      "        \n",
      "        # Adjust the output shape by setting back the batch size dimension to None\n",
      "        output_shape = tf.TensorShape([None]).concatenate(output.get_shape()[1:])\n",
      "        \n",
      "        return output\n",
      "\n",
      "This may be caused by multiline strings or comments not indented at the same level as the code.\n",
      "Train on 405 samples, validate on 192 samples\n",
      "Epoch 1/50\n",
      "405/405 [==============================] - 4s 11ms/sample - loss: 0.2690 - rse: 1.7235 - corr: -0.2409 - nrmse: 3.0773 - nd: 1.9139 - val_loss: 0.4142 - val_rse: 1.9142 - val_corr: -0.2602 - val_nrmse: 2.3383 - val_nd: 1.6733\n",
      "Epoch 2/50\n",
      "405/405 [==============================] - 1s 2ms/sample - loss: 0.2373 - rse: 1.5072 - corr: -0.0470 - nrmse: 2.6948 - nd: 1.6860 - val_loss: 0.3432 - val_rse: 1.5755 - val_corr: 0.0083 - val_nrmse: 1.9218 - val_nd: 1.3860\n",
      "Epoch 3/50\n",
      "405/405 [==============================] - 1s 2ms/sample - loss: 0.2109 - rse: 1.3988 - corr: 0.1428 - nrmse: 2.7673 - nd: 1.7230 - val_loss: 0.3199 - val_rse: 1.4340 - val_corr: 0.2463 - val_nrmse: 1.7708 - val_nd: 1.2882\n",
      "Epoch 4/50\n",
      "405/405 [==============================] - 1s 3ms/sample - loss: 0.2007 - rse: 1.3189 - corr: 0.3796 - nrmse: 2.3472 - nd: 1.5143 - val_loss: 0.3061 - val_rse: 1.3555 - val_corr: 0.3232 - val_nrmse: 1.6680 - val_nd: 1.2344\n",
      "Epoch 5/50\n",
      "405/405 [==============================] - 1s 2ms/sample - loss: 0.1904 - rse: 1.1264 - corr: 0.5206 - nrmse: 2.1032 - nd: 1.3642 - val_loss: 0.2748 - val_rse: 1.2033 - val_corr: 0.4709 - val_nrmse: 1.4956 - val_nd: 1.1059\n",
      "Epoch 6/50\n",
      "405/405 [==============================] - 1s 2ms/sample - loss: 0.1822 - rse: 1.1196 - corr: 0.4857 - nrmse: 2.0304 - nd: 1.3303 - val_loss: 0.2752 - val_rse: 1.2230 - val_corr: 0.4839 - val_nrmse: 1.5085 - val_nd: 1.1086\n",
      "Epoch 7/50\n",
      "405/405 [==============================] - 1s 3ms/sample - loss: 0.1752 - rse: 1.0999 - corr: 0.5226 - nrmse: 2.1402 - nd: 1.3509 - val_loss: 0.2732 - val_rse: 1.1938 - val_corr: 0.5197 - val_nrmse: 1.4832 - val_nd: 1.0986\n",
      "Epoch 8/50\n",
      "405/405 [==============================] - 1s 2ms/sample - loss: 0.1709 - rse: 1.0116 - corr: 0.6088 - nrmse: 1.7993 - nd: 1.1522 - val_loss: 0.2652 - val_rse: 1.1565 - val_corr: 0.5931 - val_nrmse: 1.4316 - val_nd: 1.0674\n",
      "Epoch 9/50\n",
      "405/405 [==============================] - 1s 2ms/sample - loss: 0.1670 - rse: 1.0470 - corr: 0.5867 - nrmse: 1.9728 - nd: 1.2608 - val_loss: 0.2592 - val_rse: 1.1385 - val_corr: 0.6097 - val_nrmse: 1.4120 - val_nd: 1.0429\n",
      "Epoch 10/50\n",
      "405/405 [==============================] - 1s 2ms/sample - loss: 0.1603 - rse: 1.0784 - corr: 0.5794 - nrmse: 1.8846 - nd: 1.2064 - val_loss: 0.2424 - val_rse: 1.0637 - val_corr: 0.6261 - val_nrmse: 1.3325 - val_nd: 0.9740\n",
      "Epoch 11/50\n",
      "405/405 [==============================] - 1s 2ms/sample - loss: 0.1556 - rse: 0.9453 - corr: 0.6463 - nrmse: 1.6652 - nd: 1.0900 - val_loss: 0.2432 - val_rse: 1.0731 - val_corr: 0.6105 - val_nrmse: 1.3291 - val_nd: 0.9791\n",
      "Epoch 12/50\n",
      "405/405 [==============================] - 1s 2ms/sample - loss: 0.1561 - rse: 0.9867 - corr: 0.6328 - nrmse: 1.8000 - nd: 1.1589 - val_loss: 0.2319 - val_rse: 1.0259 - val_corr: 0.6329 - val_nrmse: 1.2778 - val_nd: 0.9328\n",
      "Epoch 13/50\n",
      "405/405 [==============================] - 1s 2ms/sample - loss: 0.1505 - rse: 0.8999 - corr: 0.6669 - nrmse: 1.5596 - nd: 1.0249 - val_loss: 0.2304 - val_rse: 1.0060 - val_corr: 0.6379 - val_nrmse: 1.2626 - val_nd: 0.9251\n",
      "Epoch 14/50\n",
      "405/405 [==============================] - 1s 2ms/sample - loss: 0.1521 - rse: 0.9534 - corr: 0.6437 - nrmse: 1.7142 - nd: 1.1298 - val_loss: 0.2384 - val_rse: 1.0433 - val_corr: 0.6229 - val_nrmse: 1.3086 - val_nd: 0.9567\n",
      "Epoch 15/50\n",
      "405/405 [==============================] - 1s 3ms/sample - loss: 0.1472 - rse: 0.9388 - corr: 0.6241 - nrmse: 1.6542 - nd: 1.0634 - val_loss: 0.2276 - val_rse: 1.0056 - val_corr: 0.6861 - val_nrmse: 1.2542 - val_nd: 0.9151\n",
      "Epoch 16/50\n",
      "405/405 [==============================] - 1s 2ms/sample - loss: 0.1440 - rse: 0.8953 - corr: 0.6758 - nrmse: 1.6089 - nd: 1.0580 - val_loss: 0.2269 - val_rse: 0.9923 - val_corr: 0.6839 - val_nrmse: 1.2337 - val_nd: 0.9128\n",
      "Epoch 17/50\n",
      "405/405 [==============================] - 1s 2ms/sample - loss: 0.1410 - rse: 0.9638 - corr: 0.6217 - nrmse: 1.8051 - nd: 1.1309 - val_loss: 0.2217 - val_rse: 0.9617 - val_corr: 0.6798 - val_nrmse: 1.2052 - val_nd: 0.8905\n",
      "Epoch 18/50\n",
      "405/405 [==============================] - 1s 2ms/sample - loss: 0.1396 - rse: 0.8661 - corr: 0.7091 - nrmse: 1.5728 - nd: 1.0140 - val_loss: 0.2177 - val_rse: 0.9608 - val_corr: 0.6941 - val_nrmse: 1.2032 - val_nd: 0.8738\n",
      "Epoch 19/50\n",
      "405/405 [==============================] - 1s 2ms/sample - loss: 0.1402 - rse: 0.9630 - corr: 0.6666 - nrmse: 1.7508 - nd: 1.1231 - val_loss: 0.2255 - val_rse: 1.0073 - val_corr: 0.6847 - val_nrmse: 1.2490 - val_nd: 0.9071\n",
      "Epoch 20/50\n",
      "405/405 [==============================] - 1s 3ms/sample - loss: 0.1367 - rse: 0.8494 - corr: 0.7451 - nrmse: 1.5486 - nd: 0.9946 - val_loss: 0.2147 - val_rse: 0.9409 - val_corr: 0.6838 - val_nrmse: 1.1743 - val_nd: 0.8624\n",
      "Epoch 21/50\n",
      "405/405 [==============================] - 1s 2ms/sample - loss: 0.1356 - rse: 0.8135 - corr: 0.6891 - nrmse: 1.4682 - nd: 0.9541 - val_loss: 0.2168 - val_rse: 0.9553 - val_corr: 0.6472 - val_nrmse: 1.1953 - val_nd: 0.8706\n",
      "Epoch 22/50\n",
      "405/405 [==============================] - 1s 2ms/sample - loss: 0.1341 - rse: 0.8529 - corr: 0.7108 - nrmse: 1.6024 - nd: 1.0290 - val_loss: 0.2156 - val_rse: 0.9520 - val_corr: 0.7095 - val_nrmse: 1.1837 - val_nd: 0.8672\n",
      "Epoch 23/50\n",
      "405/405 [==============================] - 1s 2ms/sample - loss: 0.1312 - rse: 0.9131 - corr: 0.7023 - nrmse: 1.7115 - nd: 1.0650 - val_loss: 0.2094 - val_rse: 0.9113 - val_corr: 0.7280 - val_nrmse: 1.1436 - val_nd: 0.8410\n",
      "Epoch 24/50\n",
      "405/405 [==============================] - 1s 2ms/sample - loss: 0.1296 - rse: 0.9190 - corr: 0.6673 - nrmse: 1.7410 - nd: 1.0975 - val_loss: 0.2037 - val_rse: 0.9028 - val_corr: 0.6972 - val_nrmse: 1.1249 - val_nd: 0.8190\n",
      "Epoch 25/50\n",
      "405/405 [==============================] - 1s 2ms/sample - loss: 0.1276 - rse: 0.7592 - corr: 0.7473 - nrmse: 1.3651 - nd: 0.8903 - val_loss: 0.2090 - val_rse: 0.9068 - val_corr: 0.7211 - val_nrmse: 1.1317 - val_nd: 0.8402\n",
      "Epoch 26/50\n",
      "405/405 [==============================] - 1s 2ms/sample - loss: 0.1302 - rse: 0.8945 - corr: 0.7035 - nrmse: 1.6453 - nd: 1.0522 - val_loss: 0.2021 - val_rse: 0.8926 - val_corr: 0.7722 - val_nrmse: 1.1163 - val_nd: 0.8116\n",
      "Epoch 27/50\n",
      "405/405 [==============================] - 1s 2ms/sample - loss: 0.1270 - rse: 0.7613 - corr: 0.7665 - nrmse: 1.3855 - nd: 0.9111 - val_loss: 0.1965 - val_rse: 0.8603 - val_corr: 0.7448 - val_nrmse: 1.0768 - val_nd: 0.7894\n",
      "Epoch 28/50\n",
      "405/405 [==============================] - 1s 2ms/sample - loss: 0.1256 - rse: 0.8679 - corr: 0.7139 - nrmse: 1.6513 - nd: 1.0470 - val_loss: 0.1992 - val_rse: 0.8856 - val_corr: 0.7192 - val_nrmse: 1.1011 - val_nd: 0.8013\n",
      "Epoch 29/50\n",
      "405/405 [==============================] - 1s 2ms/sample - loss: 0.1210 - rse: 0.8082 - corr: 0.7208 - nrmse: 1.4402 - nd: 0.9363 - val_loss: 0.1990 - val_rse: 0.8797 - val_corr: 0.7182 - val_nrmse: 1.0953 - val_nd: 0.7999\n",
      "Epoch 30/50\n",
      "405/405 [==============================] - 1s 2ms/sample - loss: 0.1229 - rse: 0.7579 - corr: 0.7613 - nrmse: 1.3741 - nd: 0.8725 - val_loss: 0.1986 - val_rse: 0.8688 - val_corr: 0.7478 - val_nrmse: 1.0909 - val_nd: 0.7979\n",
      "Epoch 31/50\n",
      "405/405 [==============================] - 1s 2ms/sample - loss: 0.1175 - rse: 0.7381 - corr: 0.7847 - nrmse: 1.3668 - nd: 0.9085 - val_loss: 0.1913 - val_rse: 0.8500 - val_corr: 0.7308 - val_nrmse: 1.0546 - val_nd: 0.7695\n",
      "Epoch 32/50\n",
      "405/405 [==============================] - 1s 3ms/sample - loss: 0.1201 - rse: 0.8639 - corr: 0.7049 - nrmse: 1.5838 - nd: 1.0315 - val_loss: 0.1889 - val_rse: 0.8358 - val_corr: 0.7131 - val_nrmse: 1.0415 - val_nd: 0.7593\n",
      "Epoch 33/50\n",
      "405/405 [==============================] - 1s 2ms/sample - loss: 0.1213 - rse: 0.7187 - corr: 0.7659 - nrmse: 1.2931 - nd: 0.8471 - val_loss: 0.1887 - val_rse: 0.8300 - val_corr: 0.7571 - val_nrmse: 1.0344 - val_nd: 0.7586\n",
      "Epoch 34/50\n",
      "405/405 [==============================] - 1s 2ms/sample - loss: 0.1212 - rse: 0.7305 - corr: 0.7785 - nrmse: 1.2999 - nd: 0.8441 - val_loss: 0.1865 - val_rse: 0.8364 - val_corr: 0.7403 - val_nrmse: 1.0435 - val_nd: 0.7498\n",
      "Epoch 35/50\n",
      "405/405 [==============================] - 1s 2ms/sample - loss: 0.1157 - rse: 0.7151 - corr: 0.7801 - nrmse: 1.2580 - nd: 0.8082 - val_loss: 0.1783 - val_rse: 0.8016 - val_corr: 0.7342 - val_nrmse: 0.9911 - val_nd: 0.7182\n",
      "Epoch 36/50\n",
      "405/405 [==============================] - 1s 2ms/sample - loss: 0.1142 - rse: 0.7333 - corr: 0.7602 - nrmse: 1.3854 - nd: 0.8653 - val_loss: 0.1838 - val_rse: 0.8224 - val_corr: 0.7540 - val_nrmse: 1.0158 - val_nd: 0.7404\n",
      "Epoch 37/50\n",
      "405/405 [==============================] - 1s 2ms/sample - loss: 0.1128 - rse: 0.6965 - corr: 0.7852 - nrmse: 1.2945 - nd: 0.8365 - val_loss: 0.1842 - val_rse: 0.8158 - val_corr: 0.7875 - val_nrmse: 1.0252 - val_nd: 0.7392\n",
      "Epoch 38/50\n",
      "405/405 [==============================] - 1s 2ms/sample - loss: 0.1142 - rse: 0.7012 - corr: 0.8069 - nrmse: 1.2319 - nd: 0.8067 - val_loss: 0.1829 - val_rse: 0.8075 - val_corr: 0.7504 - val_nrmse: 1.0058 - val_nd: 0.7358\n",
      "Epoch 39/50\n",
      "405/405 [==============================] - 1s 2ms/sample - loss: 0.1129 - rse: 0.7141 - corr: 0.7679 - nrmse: 1.3243 - nd: 0.8432 - val_loss: 0.1686 - val_rse: 0.7470 - val_corr: 0.7731 - val_nrmse: 0.9276 - val_nd: 0.6779\n",
      "Epoch 40/50\n",
      "405/405 [==============================] - 1s 2ms/sample - loss: 0.1099 - rse: 0.6776 - corr: 0.7982 - nrmse: 1.1937 - nd: 0.7724 - val_loss: 0.1749 - val_rse: 0.7786 - val_corr: 0.7724 - val_nrmse: 0.9625 - val_nd: 0.7041\n",
      "Epoch 41/50\n",
      "405/405 [==============================] - 1s 2ms/sample - loss: 0.1067 - rse: 0.6412 - corr: 0.8067 - nrmse: 1.1382 - nd: 0.7421 - val_loss: 0.1702 - val_rse: 0.7549 - val_corr: 0.7629 - val_nrmse: 0.9347 - val_nd: 0.6850\n",
      "Epoch 42/50\n",
      "405/405 [==============================] - 1s 2ms/sample - loss: 0.1065 - rse: 0.6530 - corr: 0.8001 - nrmse: 1.1727 - nd: 0.7384 - val_loss: 0.1745 - val_rse: 0.7670 - val_corr: 0.7918 - val_nrmse: 0.9579 - val_nd: 0.7006\n",
      "Epoch 43/50\n",
      "405/405 [==============================] - 1s 2ms/sample - loss: 0.1109 - rse: 0.6783 - corr: 0.8251 - nrmse: 1.2341 - nd: 0.7886 - val_loss: 0.1638 - val_rse: 0.7357 - val_corr: 0.7967 - val_nrmse: 0.9101 - val_nd: 0.6594\n",
      "Epoch 44/50\n",
      "405/405 [==============================] - 1s 2ms/sample - loss: 0.1060 - rse: 0.7201 - corr: 0.7845 - nrmse: 1.3904 - nd: 0.8526 - val_loss: 0.1710 - val_rse: 0.7651 - val_corr: 0.7588 - val_nrmse: 0.9449 - val_nd: 0.6886\n",
      "Epoch 45/50\n",
      "405/405 [==============================] - 1s 2ms/sample - loss: 0.1034 - rse: 0.7759 - corr: 0.7131 - nrmse: 1.3649 - nd: 0.8514 - val_loss: 0.1566 - val_rse: 0.7046 - val_corr: 0.8013 - val_nrmse: 0.8714 - val_nd: 0.6304\n",
      "Epoch 46/50\n",
      "405/405 [==============================] - 1s 2ms/sample - loss: 0.1018 - rse: 0.6854 - corr: 0.7844 - nrmse: 1.3322 - nd: 0.8193 - val_loss: 0.1656 - val_rse: 0.7417 - val_corr: 0.8083 - val_nrmse: 0.9143 - val_nd: 0.6668\n",
      "Epoch 47/50\n",
      "405/405 [==============================] - 1s 2ms/sample - loss: 0.1022 - rse: 0.6838 - corr: 0.7988 - nrmse: 1.2866 - nd: 0.8161 - val_loss: 0.1508 - val_rse: 0.6713 - val_corr: 0.8130 - val_nrmse: 0.8335 - val_nd: 0.6064\n",
      "Epoch 48/50\n",
      "405/405 [==============================] - 1s 2ms/sample - loss: 0.0971 - rse: 0.6319 - corr: 0.8118 - nrmse: 1.1499 - nd: 0.7331 - val_loss: 0.1510 - val_rse: 0.6660 - val_corr: 0.8157 - val_nrmse: 0.8321 - val_nd: 0.6068\n",
      "Epoch 49/50\n",
      "405/405 [==============================] - 1s 2ms/sample - loss: 0.0979 - rse: 0.6035 - corr: 0.8427 - nrmse: 1.0739 - nd: 0.6889 - val_loss: 0.1516 - val_rse: 0.6905 - val_corr: 0.8026 - val_nrmse: 0.8483 - val_nd: 0.6107\n",
      "Epoch 50/50\n",
      "405/405 [==============================] - 1s 2ms/sample - loss: 0.0973 - rse: 0.6234 - corr: 0.8085 - nrmse: 1.1384 - nd: 0.7042 - val_loss: 0.1501 - val_rse: 0.6802 - val_corr: 0.7904 - val_nrmse: 0.8338 - val_nd: 0.6050\n",
      "Figure(1600x1000)\n",
      "192/1 [================================================================================================================================================================================================================================================================================================================================================================================================================================================================================================================================================================================================================================================================================================================================================================================================================================================================================================================================================================================================================================================================================================================================================================================================================================================================================================================================================================================================================================================================================================================================================================================================================================================================================================================================================================================================================================================================================================================================================================================================================================================================================================================================================================================================================================================================================================================================================================================================================================================================================================================================================================================================================================================================================================================================================================================================================================================================================================================================================================================================================================================================================================================================================================================================================================================================================================================================================================================================================================================================================================================================================================================================================================================================================================================================================================================================================================================================================================================================================================================================================================================================================================================================================================================================================================================================================================================================================================================================================================================================================================================================================================================================================================================================================================================================================================================================================================================================================================================================================================================================================================================================================================================================================================================================================================================================================================================================================================================================================================================================================================================================================================================================================================================================================================================================================================================================================================================================================================================================================================================================] - 1s 4ms/sample - loss: 0.0807 - rse: 3.0772 - corr: 0.4450 - nrmse: 3.4820 - nd: 2.4322\n"
     ]
    },
    {
     "name": "stdout",
     "output_type": "stream",
     "text": [
      "192/1 [================================================================================================================================================================================================================================================================================================================================================================================================================================================================================================================================================================================================================================================================================================================================================================================================================================================================================================================================================================================================================================================================================================================================================================================================================================================================================================================================================================================================================================================================================================================================================================================================================================================================================================================================================================================================================================================================================================================================================================================================================================================================================================================================================================================================================================================================================================================================================================================================================================================================================================================================================================================================================================================================================================================================================================================================================================================================================================================================================================================================================================================================================================================================================================================================================================================================================================================================================================================================================================================================================================================================================================================================================================================================================================================================================================================================================================================================================================================================================================================================================================================================================================================================================================================================================================================================================================================================================================================================================================================================================================================================================================================================================================================================================================================================================================================================================================================================================================================================================================================================================================================================================================================================================================================================================================================================================================================================================================================================================================================================================================================================================================================================================================================================================================================================================================================================================================================================================================================================================================================================] - 1s 3ms/sample\n",
      "Figure(640x480)\n"
     ]
    }
   ],
   "source": [
    "!python3 main.py --data=\"data/parking_data.txt\" \\\n",
    "                 --horizon=4 \\\n",
    "                 --save=\"save/parking\"\\\n",
    "                 --epochs=50 \\\n",
    "                 --GRUUnits=100 \\\n",
    "                 --lr=0.001\\\n",
    "                 --batchsize=128\\\n",
    "                 --highway=96 \\\n",
    "                 --dropout=0.2\\\n",
    "                 --test \\\n",
    "                 --predict=\"testingdata\" \\\n",
    "                 --savehistory \\\n",
    "                 --plot \\\n",
    "                 --series-to-plot='2' \\\n",
    "                 --save-plot=\"save/parking\"\\\n",
    "                 --logfilename=\"log/parking\"\\\n",
    "                 --debuglevel=20\\\n",
    "                 --mc-iterations=100\\\n",
    "                 --patience=50\n",
    "#                  --trainpercent=0.70 \\\n",
    "#                  --validpercent=0.15"
   ]
  },
  {
   "cell_type": "code",
   "execution_count": 13,
   "metadata": {},
   "outputs": [],
   "source": [
    "# import subprocess\n",
    "# import os\n",
    "\n",
    "# cmd = [os.path.realpath('./main.py'), '--data', 'data/parking_data.txt']\n",
    "\n",
    "# print('shell False')\n",
    "# subprocess.call(cmd)"
   ]
  },
  {
   "cell_type": "code",
   "execution_count": 4,
   "metadata": {},
   "outputs": [
    {
     "data": {
      "text/plain": [
       "'/home/DSANet.zip'"
      ]
     },
     "execution_count": 4,
     "metadata": {},
     "output_type": "execute_result"
    }
   ],
   "source": [
    "import shutil\n",
    "shutil.make_archive('../DSANet', 'zip', 'DSANet')"
   ]
  },
  {
   "cell_type": "code",
   "execution_count": 10,
   "metadata": {},
   "outputs": [],
   "source": [
    "import os\n",
    "os.chdir('./LSTNet')"
   ]
  },
  {
   "cell_type": "code",
   "execution_count": null,
   "metadata": {},
   "outputs": [],
   "source": []
  }
 ],
 "metadata": {
  "kernelspec": {
   "display_name": "Python 3 (ipykernel)",
   "language": "python",
   "name": "python3"
  },
  "language_info": {
   "codemirror_mode": {
    "name": "ipython",
    "version": 3
   },
   "file_extension": ".py",
   "mimetype": "text/x-python",
   "name": "python",
   "nbconvert_exporter": "python",
   "pygments_lexer": "ipython3",
   "version": "3.9.7"
  }
 },
 "nbformat": 4,
 "nbformat_minor": 2
}
